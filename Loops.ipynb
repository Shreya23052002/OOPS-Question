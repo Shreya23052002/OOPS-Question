{
  "nbformat": 4,
  "nbformat_minor": 0,
  "metadata": {
    "colab": {
      "provenance": []
    },
    "kernelspec": {
      "name": "python3",
      "display_name": "Python 3"
    },
    "language_info": {
      "name": "python"
    }
  },
  "cells": [
    {
      "cell_type": "markdown",
      "source": [
        "# Theory Question"
      ],
      "metadata": {
        "id": "tEIDirIfrOnf"
      }
    },
    {
      "cell_type": "markdown",
      "source": [
        "Question no. 1  What is Object-Oriented Programming (OOP)"
      ],
      "metadata": {
        "id": "IICqdhTvrW5p"
      }
    },
    {
      "cell_type": "markdown",
      "source": [
        "Answer: Object-Oriented Programming (OOP) is a programming paradigm that organizes code around objects rather than functions and logic. An object is a self-contained unit that contains both data (attributes) and behavior (methods). OOP is particularly useful for modeling real-world things and complex systems."
      ],
      "metadata": {
        "id": "LnP0eXtCraXX"
      }
    },
    {
      "cell_type": "markdown",
      "source": [
        "Question no. 2 What is a class in OOP."
      ],
      "metadata": {
        "id": "95S0EIfwtGIX"
      }
    },
    {
      "cell_type": "markdown",
      "source": [
        "Answer: A class in Object-Oriented Programming (OOP) is like a blueprint or template for creating objects.\n",
        "\n",
        "A class defines:\n",
        "\n",
        "- Attributes (also called fields or properties) → describe the object (e.g., name, age, color).\n",
        "\n",
        "- Methods (also called functions) → define what the object can do (e.g., speak, move, calculate)."
      ],
      "metadata": {
        "id": "ra0ighmPtVcv"
      }
    },
    {
      "cell_type": "markdown",
      "source": [
        "Question no. 3 What is an object in OOP."
      ],
      "metadata": {
        "id": "IIAtoHVBtisp"
      }
    },
    {
      "cell_type": "markdown",
      "source": [
        "Answer: An object in Object-Oriented Programming (OOP) is an instance of a class. It's a concrete entity based on a class blueprint, combining data and behavior in one package.\n",
        "- Attributes (also called properties or fields): Data that belongs to the object.\n",
        "\n",
        "- Methods (functions): Actions the object can perform.\n",
        "\n"
      ],
      "metadata": {
        "id": "JYMpo4uEto2G"
      }
    },
    {
      "cell_type": "markdown",
      "source": [
        "Question no. 4 What is the difference between abstraction and encapsulation."
      ],
      "metadata": {
        "id": "zN_HZpJUt-VM"
      }
    },
    {
      "cell_type": "markdown",
      "source": [
        "Answer: 1. Abstraction — Hiding the “what” is happening\n",
        "- Definition: Abstraction means hiding complex implementation details and showing only the essential features of an object.\n",
        "\n",
        "- Goal: To simplify the interface so the user only interacts with what's necessary.\n",
        "\n",
        "- Focuses on: What an object does, not how it does it.\n",
        "\n",
        "2. Encapsulation — Hiding the “how” it’s done and protecting data\n",
        "- Definition: Encapsulation is the practice of bundling data (attributes) and methods (functions) that operate on that data inside a class, and restricting access to some of the object's components.\n",
        "\n",
        "- Goal: To protect data from unwanted access and modification.\n",
        "\n",
        "- Focuses on: How data is hidden and accessed."
      ],
      "metadata": {
        "id": "C-d3G8o7uPVX"
      }
    },
    {
      "cell_type": "markdown",
      "source": [
        "Question no. 5 What are dunder methods in Python."
      ],
      "metadata": {
        "id": "pQqOswaNuoLp"
      }
    },
    {
      "cell_type": "markdown",
      "source": [
        "Answer: Dunder methods (short for \"double underscore\" methods) are special methods in Python that start and end with double underscores (like __init__, __str__, __len__, etc.).\n",
        "\n",
        "They're also called magic methods, and they allow you to define how your objects behave with built-in Python operations (like printing, adding, comparing, etc.).\n",
        "\n"
      ],
      "metadata": {
        "id": "RODW9oSOulfA"
      }
    },
    {
      "cell_type": "markdown",
      "source": [
        "Question no. 6  Explain the concept of inheritance in OOP."
      ],
      "metadata": {
        "id": "RwnH5ma_u6OZ"
      }
    },
    {
      "cell_type": "markdown",
      "source": [
        "Answer: Inheritance is the process by which one class (child class) can inherit attributes and methods from another class (parent class).\n",
        "\n",
        "Think of it like this:\n",
        "\n",
        "- A child gets traits from their parents — eye color, hair, etc.\n",
        "- Similarly, a class can get code from another class."
      ],
      "metadata": {
        "id": "13sVMLV3vAvI"
      }
    },
    {
      "cell_type": "markdown",
      "source": [
        "Question no. 7 What is polymorphism in OOP"
      ],
      "metadata": {
        "id": "z_EVA3EXvMEU"
      }
    },
    {
      "cell_type": "markdown",
      "source": [
        "Answer: Polymorphism means \"many forms\". In OOP, it allows objects of different classes to be treated as objects of a common parent class, especially when they share the same method name but behave differently."
      ],
      "metadata": {
        "id": "jobZab_RvUtR"
      }
    },
    {
      "cell_type": "markdown",
      "source": [
        "Question no.8 H How is encapsulation achieved in Python."
      ],
      "metadata": {
        "id": "nuP19vkQvcsZ"
      }
    },
    {
      "cell_type": "markdown",
      "source": [
        "Answer: Encapsulation is the concept of hiding internal data and only exposing controlled access to it through methods. This protects data from being changed unexpectedly or incorrectly.\n",
        "\n",
        "1. Using Underscores for Access Control\n",
        "\n",
        "Notation - Meaning\n",
        "\n",
        " public - No underscore (accessible everywhere)\n",
        "\n",
        "_protected - Single underscore (convention only)\n",
        "\n",
        "__private - Double underscore (name mangling)"
      ],
      "metadata": {
        "id": "70iHAaV4viOk"
      }
    },
    {
      "cell_type": "markdown",
      "source": [
        "Question no. 9 What is a constructor in Python."
      ],
      "metadata": {
        "id": "q-O-aYerwVX-"
      }
    },
    {
      "cell_type": "markdown",
      "source": [
        "Answer: A constructor in Python is a special method used to initialize an object when it's created. It sets up the initial state (like assigning values to attributes).\n",
        "\n",
        "In Python, the constructor method is called __init__.\n",
        "\n"
      ],
      "metadata": {
        "id": "kKuk180JwYSk"
      }
    },
    {
      "cell_type": "code",
      "source": [
        "class MyClass:\n",
        "    def __init__(self, value):\n",
        "        self.value = value\n"
      ],
      "metadata": {
        "id": "QLaFJN2_wqBc"
      },
      "execution_count": 1,
      "outputs": []
    },
    {
      "cell_type": "markdown",
      "source": [
        "Question no. 10  What are class and static methods in Python."
      ],
      "metadata": {
        "id": "c7TnZnvkwtCG"
      }
    },
    {
      "cell_type": "markdown",
      "source": [
        "1. Class Methods (@classmethod)\n",
        "\n",
        "- A class method is a method that is bound to the class, not the instance. It receives the class (cls) as its first argument instead of self.\n",
        "- You need to access or modify class-level data, not instance-specific data.\n",
        "\n",
        "2. Static Methods (@staticmethod)\n",
        "- A static method is a method that doesn't take self or cls. It behaves like a regular function, but lives inside the class for logical grouping.\n",
        "- You want a function related to the class, but it doesn't need access to class or instance data."
      ],
      "metadata": {
        "id": "thEOQ4CRw63S"
      }
    },
    {
      "cell_type": "markdown",
      "source": [
        "Question no. 11 What is method overloading in Python"
      ],
      "metadata": {
        "id": "sJSV8QNExSbm"
      }
    },
    {
      "cell_type": "markdown",
      "source": [
        "Answer: Method overloading means having multiple methods with the same name but different parameters (number or type) in the same class."
      ],
      "metadata": {
        "id": "uZdmed6sxZLK"
      }
    },
    {
      "cell_type": "markdown",
      "source": [
        "Question no. 12 What is method overriding in OOP"
      ],
      "metadata": {
        "id": "1Yjr2dJExljY"
      }
    },
    {
      "cell_type": "markdown",
      "source": [
        "Answer: Method overriding means redefining a method in a child (subclass) that already exists in the parent (superclass).\n",
        "\n",
        "Same method name, same parameters, but different implementation in the subclass.\n",
        "\n"
      ],
      "metadata": {
        "id": "41S1BoYhxrm2"
      }
    },
    {
      "cell_type": "markdown",
      "source": [
        "Question no. 13  What is a property decorator in Python."
      ],
      "metadata": {
        "id": "MAT7UZNxx2rB"
      }
    },
    {
      "cell_type": "markdown",
      "source": [
        "Answer: The @property decorator in Python allows you to define a method that acts like an attribute.\n",
        "\n",
        "You call it like an attribute, but behind the scenes, it's actually a method.\n",
        "\n",
        "Why Use It?\n",
        "- To control access to a value (getters, setters, deleters)\n",
        "\n",
        "- To make the syntax cleaner and more natural\n",
        "\n",
        "- To add logic when accessing or modifying an attribute"
      ],
      "metadata": {
        "id": "yjkPTGJix7kG"
      }
    },
    {
      "cell_type": "markdown",
      "source": [
        "Question no. 14 Why is polymorphism important in OOP?"
      ],
      "metadata": {
        "id": "pLglUsmryJzr"
      }
    },
    {
      "cell_type": "markdown",
      "source": [
        "Answer: Polymorphism means “many forms” — it allows different objects to respond to the same method name in their own unique way.\n",
        "\n",
        "Why Polymorphism Is Important:\n",
        "1. Code Flexibility & Extensibility\n",
        "You can write generic code that works with many types of objects, not just one specific class.\n",
        "2. Reduces Code Duplication\n",
        "You don’t need to write separate functions for dogs, cats, etc.\n",
        "One interface (speak) handles all the variations.\n",
        "\n",
        "3. Improves Maintainability\n",
        "If you need to change how speak() works for one specific class, you do it inside that class — no need to touch the main logic.\n",
        "4. Supports Open/Closed Principle (SOLID)\n",
        "Open for extension, closed for modification\n",
        "\n",
        "\n",
        "\n"
      ],
      "metadata": {
        "id": "ODGNU703ySnH"
      }
    },
    {
      "cell_type": "markdown",
      "source": [
        "Question no. 15 What is an abstract class in Python."
      ],
      "metadata": {
        "id": "-gGapvt-3BHq"
      }
    },
    {
      "cell_type": "markdown",
      "source": [
        "Answer: An abstract class is a class that cannot be instantiated directly. It's meant to serve as a blueprint for other classes.\n",
        "\n",
        "It may contain one or more abstract methods — methods that are declared but not implemented in the base class.\n",
        "\n",
        "Why Use Abstract Classes?\n",
        "- To enforce a structure for all subclasses\n",
        "\n",
        "- To define an interface that must be followed\n",
        "\n",
        "- To prevent instantiation of incomplete base classes"
      ],
      "metadata": {
        "id": "tFhsEu973IrS"
      }
    },
    {
      "cell_type": "markdown",
      "source": [
        "Question no. 16  What are the advantages of OOP."
      ],
      "metadata": {
        "id": "DtrveHrT3cio"
      }
    },
    {
      "cell_type": "markdown",
      "source": [
        "Answer:\n",
        "1.  Modularity\n",
        "\n",
        "- Code is organized into classes and objects, each with a specific role.\n",
        "\n",
        "- This makes it easier to manage and understand complex programs.\n",
        "2. Reusability\n",
        "- You can reuse code through inheritance.\n",
        "\n",
        "- Define common functionality once and extend it as needed.\n",
        "3. Encapsulation\n",
        "- Data is hidden inside classes using private/protected attributes.\n",
        "\n",
        "- You control access via methods (getters/setters or properties).\n",
        "4. Polymorphism\n",
        "- Different classes can use the same interface (method names) but implement it differently.\n",
        "\n",
        "- Great for writing flexible, dynamic code.\n",
        "5. Inheritance\n",
        "- Allows you to create new classes from existing ones.\n",
        "\n",
        "- Helps avoid code duplication and supports the DRY (Don’t Repeat Yourself) principle.\n",
        "6. Easier Maintenance and Updates\n",
        "- You can update or fix one part of the system (a class), and everything else remains unaffected if well-designed."
      ],
      "metadata": {
        "id": "7TbntyRM4aJ5"
      }
    },
    {
      "cell_type": "markdown",
      "source": [
        "Question no. 17  What is the difference between a class variable and an instance variable?"
      ],
      "metadata": {
        "id": "DceDJH5j5NTg"
      }
    },
    {
      "cell_type": "markdown",
      "source": [
        "Answer:\n",
        "\n",
        " **Class Variable vs Instance Variable**\n",
        "\n",
        "Feature : Class Variable : Instance Variable\n",
        "\n",
        "Belongs to :\tThe class itself : A specific object/instance of the class\n",
        "\n",
        "Shared between : All instances : Unique to each instance\n",
        "\n",
        "Defined where? : Inside class, : outside any method\tInside a method (usually __init__)\n",
        "\n",
        "Accessed via : ClassName.var or self.var : Always via self.var\n",
        "Memory : Only one copy per class : A new copy per object"
      ],
      "metadata": {
        "id": "TQNQwlai5UY2"
      }
    },
    {
      "cell_type": "markdown",
      "source": [
        "Question no. 18 What is multiple inheritance in Python?"
      ],
      "metadata": {
        "id": "D8fJC8Me6koU"
      }
    },
    {
      "cell_type": "markdown",
      "source": [
        "Answer: Multiple inheritance means a class can inherit from more than one parent class.\n",
        "\n",
        "In simpler terms: one class can get features (attributes & methods) from multiple classes.\n",
        "\n",
        "- Code reuse: You can combine functionality from multiple sources.\n",
        "\n",
        "- Flexibility: Useful when your class logically shares traits from multiple categories.\n",
        "\n"
      ],
      "metadata": {
        "id": "Tq3undqZ6tPB"
      }
    },
    {
      "cell_type": "markdown",
      "source": [
        "Question no. 19  Explain the purpose of ‘’__str__’ and ‘__repr__’ ‘ methods in Python?"
      ],
      "metadata": {
        "id": "PALwQ2Cb6-FA"
      }
    },
    {
      "cell_type": "markdown",
      "source": [
        "Answer:\n",
        "**Method : Purpose : Audience**\n",
        "\n",
        "__str__\tFor readable, : nicely formatted output : Users\n",
        "\n",
        "__repr__\tFor unambiguous, : technical output (debugging) :\tDevelopers\n"
      ],
      "metadata": {
        "id": "zRiFaP9s7H3i"
      }
    },
    {
      "cell_type": "markdown",
      "source": [
        "Question no. 20 What is the significance of the ‘super()’ function in Python."
      ],
      "metadata": {
        "id": "KpEENWRG7r3K"
      }
    },
    {
      "cell_type": "markdown",
      "source": [
        "Answer: The super() function returns a proxy object that allows you to call methods from a parent class — without explicitly naming it.\n",
        "\n",
        "It’s most commonly used inside inherited classes to call the parent’s __init__() or other methods."
      ],
      "metadata": {
        "id": "v5dnHpGo7xxK"
      }
    },
    {
      "cell_type": "markdown",
      "source": [
        "Question no. 21  What is the significance of the __del__ method in Python?"
      ],
      "metadata": {
        "id": "IXjEJRvY75eF"
      }
    },
    {
      "cell_type": "markdown",
      "source": [
        "Answer: The __del__ method is automatically called when the object is about to be deleted (usually when its reference count hits zero)."
      ],
      "metadata": {
        "id": "Z7FARM7b8ADw"
      }
    },
    {
      "cell_type": "code",
      "source": [
        "def __del__(self):\n",
        "    # Cleanup code here\n"
      ],
      "metadata": {
        "id": "pQo-kWAn8Ieb"
      },
      "execution_count": null,
      "outputs": []
    },
    {
      "cell_type": "markdown",
      "source": [
        "Question no. 22 What is the difference between @staticmethod and @classmethod in Python?"
      ],
      "metadata": {
        "id": "8Dp702Kj8LA-"
      }
    },
    {
      "cell_type": "markdown",
      "source": [
        "Answer:\n",
        "A @staticmethod in Python does not take any special first argument like self or cls. It behaves just like a regular function, but it's placed inside a class for organizational purposes. Since it doesn’t have access to the class or instance, it cannot access or modify class-level or instance-level data. It is useful for utility or helper functions that logically belong to the class but don’t need access to its internal state. However, static methods are not inheritance-aware, meaning they do not respond differently in subclasses unless explicitly overridden.\n",
        "\n",
        "On the other hand, a @classmethod takes cls as its first argument, which refers to the class itself (not an instance of the class). This allows it to access and modify class-level data and also makes it suitable for use in factory methods, where you might want to create instances in different ways. Class methods are inheritance-aware, so if you call a class method from a subclass, the cls argument will correctly refer to the subclass, making them more flexible for building extensible designs."
      ],
      "metadata": {
        "id": "swFJBMSp8TK1"
      }
    },
    {
      "cell_type": "markdown",
      "source": [
        "Question no. 23 How does polymorphism work in Python with inheritance?"
      ],
      "metadata": {
        "id": "hE-fUDVT9VV6"
      }
    },
    {
      "cell_type": "markdown",
      "source": [
        "Answer: Polymorphism means \"many forms\" — in Python, it allows objects of different classes to be used interchangeably, as long as they implement the same interface (i.e., methods with the same name).\n",
        "\n",
        "In short: Different classes can define their own versions of the same method, and Python will figure out which one to call at runtime.\n",
        "\n"
      ],
      "metadata": {
        "id": "qgNdb6Xj9uGb"
      }
    },
    {
      "cell_type": "code",
      "source": [
        "class Animal:\n",
        "    def speak(self):\n",
        "        return \"Some sound\"\n",
        "\n",
        "class Dog(Animal):\n",
        "    def speak(self):\n",
        "        return \"Woof!\"\n",
        "\n",
        "class Cat(Animal):\n",
        "    def speak(self):\n",
        "        return \"Meow!\"\n"
      ],
      "metadata": {
        "id": "5HXimzCO-Ej_"
      },
      "execution_count": null,
      "outputs": []
    },
    {
      "cell_type": "markdown",
      "source": [
        "Question no. 24  What is method chaining in Python OOP?"
      ],
      "metadata": {
        "id": "PZrHRI0M-FrQ"
      }
    },
    {
      "cell_type": "markdown",
      "source": [
        "Answer: Method chaining is when each method returns self, allowing you to \"chain\" calls together like this:\n",
        "\n",
        "\n"
      ],
      "metadata": {
        "id": "pYxBtqal-Szf"
      }
    },
    {
      "cell_type": "code",
      "source": [
        "object.method1().method2().method3()\n"
      ],
      "metadata": {
        "id": "0odj3den-oHy"
      },
      "execution_count": null,
      "outputs": []
    },
    {
      "cell_type": "markdown",
      "source": [
        "Question no. 25 What is the purpose of the __call__ method in Python?"
      ],
      "metadata": {
        "id": "WMJEMltu-rJW"
      }
    },
    {
      "cell_type": "markdown",
      "source": [
        "Answer: The __call__ method allows an instance of a class to be called like a regular function."
      ],
      "metadata": {
        "id": "CzNi4c6z-w46"
      }
    },
    {
      "cell_type": "code",
      "source": [
        "class MyClass:\n",
        "    def __call__(self, *args, **kwargs):\n",
        "        print(\"Instance was called like a function!\", args, kwargs)\n",
        "\n",
        "obj = MyClass()\n",
        "obj(1, 2, key=\"value\")  # Triggers __call__\n"
      ],
      "metadata": {
        "id": "_bJD_HBs_CCd"
      },
      "execution_count": null,
      "outputs": []
    },
    {
      "cell_type": "markdown",
      "source": [
        "# Practical Question"
      ],
      "metadata": {
        "id": "23dDmP_w_DpO"
      }
    },
    {
      "cell_type": "markdown",
      "source": [
        "Question no. 1  Create a parent class Animal with a method speak() that prints a generic message. Create a child class Dog\n",
        "that overrides the speak() method to print \"Bark!\"."
      ],
      "metadata": {
        "id": "KYNztcQR_HPF"
      }
    },
    {
      "cell_type": "code",
      "source": [
        "# Parent class\n",
        "class Animal:\n",
        "    def speak(self):\n",
        "        print(\"The animal makes a sound.\")\n",
        "\n",
        "# Child class\n",
        "class Dog(Animal):\n",
        "    def speak(self):\n",
        "        print(\"Bark!\")\n",
        "\n",
        "# Example usage\n",
        "generic_animal = Animal()\n",
        "generic_animal.speak()  # Output: The animal makes a sound.\n",
        "\n",
        "dog = Dog()\n",
        "dog.speak()             # Output: Bark!\n"
      ],
      "metadata": {
        "id": "MKw4v929_dFD"
      },
      "execution_count": null,
      "outputs": []
    },
    {
      "cell_type": "markdown",
      "source": [
        "Question no. 2  Write a program to create an abstract class Shape with a method area(). Derive classes Circle and Rectangle\n",
        "from it and implement the area() method in both."
      ],
      "metadata": {
        "id": "wXBvPwn0_iYn"
      }
    },
    {
      "cell_type": "code",
      "source": [
        "from abc import ABC, abstractmethod\n",
        "import math\n",
        "\n",
        "# Abstract base class\n",
        "class Shape(ABC):\n",
        "    @abstractmethod\n",
        "    def area(self):\n",
        "        pass\n",
        "\n",
        "# Circle class\n",
        "class Circle(Shape):\n",
        "    def __init__(self, radius):\n",
        "        self.radius = radius\n",
        "\n",
        "    def area(self):\n",
        "        return math.pi * self.radius ** 2\n",
        "\n",
        "# Rectangle class\n",
        "class Rectangle(Shape):\n",
        "    def __init__(self, width, height):\n",
        "        self.width = width\n",
        "        self.height = height\n",
        "\n",
        "    def area(self):\n",
        "        return self.width * self.height\n",
        "\n",
        "# Example usage\n",
        "circle = Circle(5)\n",
        "print(\"Area of Circle:\", circle.area())  # Output: ~78.54\n",
        "\n",
        "rectangle = Rectangle(4, 6)\n",
        "print(\"Area of Rectangle:\", rectangle.area())  # Output: 24\n",
        "\n"
      ],
      "metadata": {
        "colab": {
          "base_uri": "https://localhost:8080/"
        },
        "id": "gJ4878MA_oUB",
        "outputId": "cf5df416-0ab5-41a4-ed9d-8994457ad526"
      },
      "execution_count": 3,
      "outputs": [
        {
          "output_type": "stream",
          "name": "stdout",
          "text": [
            "Area of Circle: 78.53981633974483\n",
            "Area of Rectangle: 24\n"
          ]
        }
      ]
    },
    {
      "cell_type": "markdown",
      "source": [
        "Question no. 3  Implement a multi-level inheritance scenario where a class Vehicle has an attribute type. Derive a class Car\n",
        "and further derive a class ElectricCar that adds a battery attribute."
      ],
      "metadata": {
        "id": "_BwyBwNs_3iK"
      }
    },
    {
      "cell_type": "code",
      "source": [
        "# Base class\n",
        "class Vehicle:\n",
        "    def __init__(self, vehicle_type):\n",
        "        self.type = vehicle_type\n",
        "\n",
        "    def display_type(self):\n",
        "        print(f\"Vehicle Type: {self.type}\")\n",
        "\n",
        "# First-level derived class\n",
        "class Car(Vehicle):\n",
        "    def __init__(self, vehicle_type, brand):\n",
        "        super().__init__(vehicle_type)\n",
        "        self.brand = brand\n",
        "\n",
        "    def display_brand(self):\n",
        "        print(f\"Brand: {self.brand}\")\n",
        "\n",
        "# Second-level derived class\n",
        "class ElectricCar(Car):\n",
        "    def __init__(self, vehicle_type, brand, battery_capacity):\n",
        "        super().__init__(vehicle_type, brand)\n",
        "        self.battery = battery_capacity\n",
        "\n",
        "    def display_battery(self):\n",
        "        print(f\"Battery Capacity: {self.battery} kWh\")\n",
        "\n",
        "# Example usage\n",
        "tesla = ElectricCar(\"Car\", \"Tesla\", 75)\n",
        "\n",
        "tesla.display_type()      # Output: Vehicle Type: Car\n",
        "tesla.display_brand()     # Output: Brand: Tesla\n",
        "tesla.display_battery()   # Output: Battery Capacity: 75 kWh\n"
      ],
      "metadata": {
        "colab": {
          "base_uri": "https://localhost:8080/"
        },
        "id": "NZdY-vVLAJj9",
        "outputId": "35c4a793-695b-462e-f8dd-28e552038f46"
      },
      "execution_count": 4,
      "outputs": [
        {
          "output_type": "stream",
          "name": "stdout",
          "text": [
            "Vehicle Type: Car\n",
            "Brand: Tesla\n",
            "Battery Capacity: 75 kWh\n"
          ]
        }
      ]
    },
    {
      "cell_type": "markdown",
      "source": [
        "Question no. 4  Demonstrate polymorphism by creating a base class Bird with a method fly(). Create two derived classes\n",
        "Sparrow and Penguin that override the fly() method.\n"
      ],
      "metadata": {
        "id": "RPySEunwALvI"
      }
    },
    {
      "cell_type": "code",
      "source": [
        "# Base class\n",
        "class Bird:\n",
        "    def fly(self):\n",
        "        print(\"Some birds can fly.\")\n",
        "\n",
        "# Derived class\n",
        "class Sparrow(Bird):\n",
        "    def fly(self):\n",
        "        print(\"Sparrow flies high in the sky!\")\n",
        "\n",
        "# Derived class\n",
        "class Penguin(Bird):\n",
        "    def fly(self):\n",
        "        print(\"Penguins can't fly, but they swim well!\")\n",
        "\n",
        "# Function to demonstrate polymorphism\n",
        "def bird_flight(bird):\n",
        "    bird.fly()\n",
        "\n",
        "# Example usage\n",
        "sparrow = Sparrow()\n",
        "penguin = Penguin()\n",
        "\n",
        "bird_flight(sparrow)  # Output: Sparrow flies high in the sky!\n",
        "bird_flight(penguin)  # Output: Penguins can't fly, but they swim well!\n"
      ],
      "metadata": {
        "colab": {
          "base_uri": "https://localhost:8080/"
        },
        "id": "E4efd9MmAQtJ",
        "outputId": "e3087169-e559-4872-d49a-9715f9e51ce1"
      },
      "execution_count": 5,
      "outputs": [
        {
          "output_type": "stream",
          "name": "stdout",
          "text": [
            "Sparrow flies high in the sky!\n",
            "Penguins can't fly, but they swim well!\n"
          ]
        }
      ]
    },
    {
      "cell_type": "markdown",
      "source": [
        "Question no. 5  Write a program to demonstrate encapsulation by creating a class BankAccount with private attributes\n",
        "balance and methods to deposit, withdraw, and check balance."
      ],
      "metadata": {
        "id": "GKs6uwUkAWui"
      }
    },
    {
      "cell_type": "code",
      "source": [
        "class BankAccount:\n",
        "    def __init__(self, initial_balance=0):\n",
        "        self.__balance = initial_balance  # Private attribute\n",
        "\n",
        "    def deposit(self, amount):\n",
        "        if amount > 0:\n",
        "            self.__balance += amount\n",
        "            print(f\"Deposited: ${amount}\")\n",
        "        else:\n",
        "            print(\"Deposit amount must be positive.\")\n",
        "\n",
        "    def withdraw(self, amount):\n",
        "        if 0 < amount <= self.__balance:\n",
        "            self.__balance -= amount\n",
        "            print(f\"Withdrawn: ${amount}\")\n",
        "        else:\n",
        "            print(\"Insufficient balance or invalid amount.\")\n",
        "\n",
        "    def check_balance(self):\n",
        "        print(f\"Current Balance: ${self.__balance}\")\n"
      ],
      "metadata": {
        "id": "myt5K-_DAcp3"
      },
      "execution_count": 6,
      "outputs": []
    },
    {
      "cell_type": "markdown",
      "source": [
        "Question no. 6  Demonstrate runtime polymorphism using a method play() in a base class Instrument. Derive classes Guitar\n",
        "and Piano that implement their own version of play()."
      ],
      "metadata": {
        "id": "c30yOvn_AiP7"
      }
    },
    {
      "cell_type": "code",
      "source": [
        "# Base class\n",
        "class Instrument:\n",
        "    def play(self):\n",
        "        print(\"Playing an instrument...\")\n",
        "\n",
        "# Derived class\n",
        "class Guitar(Instrument):\n",
        "    def play(self):\n",
        "        print(\"Strumming the guitar 🎸\")\n",
        "\n",
        "# Derived class\n",
        "class Piano(Instrument):\n",
        "    def play(self):\n",
        "        print(\"Playing the piano 🎹\")\n",
        "\n",
        "# Function to demonstrate runtime polymorphism\n",
        "def perform(instrument):\n",
        "    instrument.play()\n",
        "\n",
        "# Example usage\n",
        "guitar = Guitar()\n",
        "piano = Piano()\n",
        "\n",
        "perform(guitar)  # Output: Strumming the guitar 🎸\n",
        "perform(piano)   # Output: Playing the piano 🎹\n"
      ],
      "metadata": {
        "colab": {
          "base_uri": "https://localhost:8080/"
        },
        "id": "9tbjBoANAm-N",
        "outputId": "658ca8cf-4c28-4215-b669-907cb666e369"
      },
      "execution_count": 7,
      "outputs": [
        {
          "output_type": "stream",
          "name": "stdout",
          "text": [
            "Strumming the guitar 🎸\n",
            "Playing the piano 🎹\n"
          ]
        }
      ]
    },
    {
      "cell_type": "markdown",
      "source": [
        "Question no. 7  Create a class MathOperations with a class method add_numbers() to add two numbers and a static\n",
        "method subtract_numbers() to subtract two numbers."
      ],
      "metadata": {
        "id": "eLbSLL21AtiL"
      }
    },
    {
      "cell_type": "code",
      "source": [
        "class MathOperations:\n",
        "    @classmethod\n",
        "    def add_numbers(cls, a, b):\n",
        "        return a + b\n",
        "\n",
        "    @staticmethod\n",
        "    def subtract_numbers(a, b):\n",
        "        return a - b\n",
        "\n",
        "# Example usage\n",
        "print(\"Addition:\", MathOperations.add_numbers(10, 5))     # Output: 15\n",
        "print(\"Subtraction:\", MathOperations.subtract_numbers(10, 5))  # Output: 5\n"
      ],
      "metadata": {
        "colab": {
          "base_uri": "https://localhost:8080/"
        },
        "id": "1Kobib5ZAzJ4",
        "outputId": "7a3691b9-2077-4059-979e-97fd3f0126f5"
      },
      "execution_count": 8,
      "outputs": [
        {
          "output_type": "stream",
          "name": "stdout",
          "text": [
            "Addition: 15\n",
            "Subtraction: 5\n"
          ]
        }
      ]
    },
    {
      "cell_type": "markdown",
      "source": [
        "Question no. 8 Implement a class Person with a class method to count the total number of persons created."
      ],
      "metadata": {
        "id": "wTdjPyBkA35v"
      }
    },
    {
      "cell_type": "code",
      "source": [
        "class Person:\n",
        "    count = 0  # Class variable to count the number of persons\n",
        "\n",
        "    def __init__(self, name):\n",
        "        self.name = name\n",
        "        Person.count += 1  # Increment count when a new person is created\n",
        "\n",
        "    @classmethod\n",
        "    def total_persons(cls):\n",
        "        return cls.count\n",
        "\n",
        "# Example usage\n",
        "p1 = Person(\"Alice\")\n",
        "p2 = Person(\"Bob\")\n",
        "p3 = Person(\"Charlie\")\n",
        "\n",
        "print(\"Total Persons Created:\", Person.total_persons())  # Output: 3\n"
      ],
      "metadata": {
        "colab": {
          "base_uri": "https://localhost:8080/"
        },
        "id": "HUuC5CqiA9Gv",
        "outputId": "6023abbf-1324-41df-c267-64331d794396"
      },
      "execution_count": 9,
      "outputs": [
        {
          "output_type": "stream",
          "name": "stdout",
          "text": [
            "Total Persons Created: 3\n"
          ]
        }
      ]
    },
    {
      "cell_type": "markdown",
      "source": [
        "Question no. 9  Write a class Fraction with attributes numerator and denominator. Override the str method to display the\n",
        "fraction as \"numerator/denominator\"."
      ],
      "metadata": {
        "id": "KUGxRiQ2BC8g"
      }
    },
    {
      "cell_type": "code",
      "source": [
        "class Fraction:\n",
        "    def __init__(self, numerator, denominator):\n",
        "        self.numerator = numerator\n",
        "        self.denominator = denominator\n",
        "\n",
        "    def __str__(self):\n",
        "        return f\"{self.numerator}/{self.denominator}\"\n",
        "\n",
        "# Example usage\n",
        "f1 = Fraction(3, 4)\n",
        "f2 = Fraction(7, 2)\n",
        "\n",
        "print(f1)  # Output: 3/4\n",
        "print(f2)  # Output: 7/2\n"
      ],
      "metadata": {
        "colab": {
          "base_uri": "https://localhost:8080/"
        },
        "id": "68RATLzCBLog",
        "outputId": "110723b2-4e7f-4e89-b930-d695c75ab47e"
      },
      "execution_count": 10,
      "outputs": [
        {
          "output_type": "stream",
          "name": "stdout",
          "text": [
            "3/4\n",
            "7/2\n"
          ]
        }
      ]
    },
    {
      "cell_type": "markdown",
      "source": [
        "Question no. 10  Demonstrate operator overloading by creating a class Vector and overriding the add method to add two\n",
        "vectors."
      ],
      "metadata": {
        "id": "jTGR_TyBBNzR"
      }
    },
    {
      "cell_type": "code",
      "source": [
        "class Vector:\n",
        "    def __init__(self, x, y):\n",
        "        self.x = x\n",
        "        self.y = y\n",
        "\n",
        "    def __add__(self, other):\n",
        "        if isinstance(other, Vector):\n",
        "            return Vector(self.x + other.x, self.y + other.y)\n",
        "        return NotImplemented\n",
        "\n",
        "    def __str__(self):\n",
        "        return f\"({self.x}, {self.y})\"\n",
        "\n",
        "# Example usage\n",
        "v1 = Vector(2, 3)\n",
        "v2 = Vector(4, 5)\n",
        "\n",
        "result = v1 + v2\n",
        "print(\"Result of vector addition:\", result)  # Output: (6, 8)\n"
      ],
      "metadata": {
        "colab": {
          "base_uri": "https://localhost:8080/"
        },
        "id": "nLBQc1VLBXXZ",
        "outputId": "809fa926-5b39-4452-fb0b-c06042936692"
      },
      "execution_count": 11,
      "outputs": [
        {
          "output_type": "stream",
          "name": "stdout",
          "text": [
            "Result of vector addition: (6, 8)\n"
          ]
        }
      ]
    },
    {
      "cell_type": "markdown",
      "source": [
        "Question no. 11 Create a class Person with attributes name and age. Add a method greet() that prints \"Hello, my name is\n",
        "{name} and I am {age} years old.\""
      ],
      "metadata": {
        "id": "1bX2ay-7BZfI"
      }
    },
    {
      "cell_type": "code",
      "source": [
        "class Person:\n",
        "    def __init__(self, name, age):\n",
        "        self.name = name\n",
        "        self.age = age\n",
        "\n",
        "    def greet(self):\n",
        "        print(f\"Hello, my name is {self.name} and I am {self.age} years old.\")\n",
        "\n",
        "# Example usage\n",
        "p1 = Person(\"Alice\", 25)\n",
        "p1.greet()  # Output: Hello, my name is Alice and I am 25 years old.\n"
      ],
      "metadata": {
        "colab": {
          "base_uri": "https://localhost:8080/"
        },
        "id": "TB4iI8SfBdsf",
        "outputId": "bc57202f-046e-4dc8-a4a5-e6098110d969"
      },
      "execution_count": 12,
      "outputs": [
        {
          "output_type": "stream",
          "name": "stdout",
          "text": [
            "Hello, my name is Alice and I am 25 years old.\n"
          ]
        }
      ]
    },
    {
      "cell_type": "markdown",
      "source": [
        "Question no. 12 Implement a class Student with attributes name and grades. Create a method average_grade() to compute\n",
        "the average of the grades."
      ],
      "metadata": {
        "id": "p04RjsG4Bi4a"
      }
    },
    {
      "cell_type": "code",
      "source": [
        "class Student:\n",
        "    def __init__(self, name, grades):\n",
        "        self.name = name\n",
        "        self.grades = grades  # List of numbers\n",
        "\n",
        "    def average_grade(self):\n",
        "        if self.grades:\n",
        "            return sum(self.grades) / len(self.grades)\n",
        "        else:\n",
        "            return 0  # Avoid division by zero\n",
        "\n",
        "# Example usage\n",
        "student1 = Student(\"John\", [85, 90, 78, 92])\n",
        "print(f\"{student1.name}'s average grade: {student1.average_grade():.2f}\")\n"
      ],
      "metadata": {
        "colab": {
          "base_uri": "https://localhost:8080/"
        },
        "id": "4oiH0i14BpiG",
        "outputId": "533ee4f3-3f9b-4534-c98c-6e657d74e33a"
      },
      "execution_count": 13,
      "outputs": [
        {
          "output_type": "stream",
          "name": "stdout",
          "text": [
            "John's average grade: 86.25\n"
          ]
        }
      ]
    },
    {
      "cell_type": "markdown",
      "source": [
        "Question no. 13 Create a class Rectangle with methods set_dimensions() to set the dimensions and area() to calculate the\n",
        "area."
      ],
      "metadata": {
        "id": "jXcBd-D1BvGQ"
      }
    },
    {
      "cell_type": "code",
      "source": [
        "class Rectangle:\n",
        "    def __init__(self):\n",
        "        self.length = 0\n",
        "        self.width = 0\n",
        "\n",
        "    def set_dimensions(self, length, width):\n",
        "        self.length = length\n",
        "        self.width = width\n",
        "\n",
        "    def area(self):\n",
        "        return self.length * self.width\n",
        "\n",
        "# Example usage\n",
        "rect = Rectangle()\n",
        "rect.set_dimensions(5, 4)\n",
        "print(\"Area of the rectangle:\", rect.area())  # Output: 20\n"
      ],
      "metadata": {
        "colab": {
          "base_uri": "https://localhost:8080/"
        },
        "id": "YSaWT3Z9B2Zx",
        "outputId": "b7bc49ea-cefd-4860-cf70-e892fa4c6465"
      },
      "execution_count": 14,
      "outputs": [
        {
          "output_type": "stream",
          "name": "stdout",
          "text": [
            "Area of the rectangle: 20\n"
          ]
        }
      ]
    },
    {
      "cell_type": "markdown",
      "source": [
        "Question no. 14  Create a class Employee with a method calculate_salary() that computes the salary based on hours worked\n",
        "and hourly rate. Create a derived class Manager that adds a bonus to the salary."
      ],
      "metadata": {
        "id": "2ZHfzcP_B41k"
      }
    },
    {
      "cell_type": "code",
      "source": [
        "# Base class\n",
        "class Employee:\n",
        "    def __init__(self, name, hours_worked, hourly_rate):\n",
        "        self.name = name\n",
        "        self.hours_worked = hours_worked\n",
        "        self.hourly_rate = hourly_rate\n",
        "\n",
        "    def calculate_salary(self):\n",
        "        return self.hours_worked * self.hourly_rate\n",
        "\n",
        "# Derived class\n",
        "class Manager(Employee):\n",
        "    def __init__(self, name, hours_worked, hourly_rate, bonus):\n",
        "        super().__init__(name, hours_worked, hourly_rate)\n",
        "        self.bonus = bonus\n",
        "\n",
        "    def calculate_salary(self):\n",
        "        base_salary = super().calculate_salary()\n",
        "        return base_salary + self.bonus\n",
        "\n",
        "# Example usage\n",
        "emp = Employee(\"Alice\", 40, 25)\n",
        "print(f\"{emp.name}'s Salary: ${emp.calculate_salary()}\")  # Output: $1000\n",
        "\n",
        "mgr = Manager(\"Bob\", 45, 30, 500)\n",
        "print(f\"{mgr.name}'s Salary: ${mgr.calculate_salary()}\")  # Output: $1850\n"
      ],
      "metadata": {
        "colab": {
          "base_uri": "https://localhost:8080/"
        },
        "id": "LdUu4gfOB-yO",
        "outputId": "a56978d3-f15f-400f-bf51-2c1c73de2eb8"
      },
      "execution_count": 16,
      "outputs": [
        {
          "output_type": "stream",
          "name": "stdout",
          "text": [
            "Alice's Salary: $1000\n",
            "Bob's Salary: $1850\n"
          ]
        }
      ]
    },
    {
      "cell_type": "markdown",
      "source": [
        "Question no. 15 Create a class Product with attributes name, price, and quantity. Implement a method total_price() that\n",
        "calculates the total price of the product."
      ],
      "metadata": {
        "id": "r-4PASmtCCpY"
      }
    },
    {
      "cell_type": "code",
      "source": [
        "class Product:\n",
        "    def __init__(self, name, price, quantity):\n",
        "        self.name = name\n",
        "        self.price = price\n",
        "        self.quantity = quantity\n",
        "\n",
        "    def total_price(self):\n",
        "        return self.price * self.quantity\n",
        "\n",
        "# Example usage\n",
        "product1 = Product(\"Laptop\", 800, 2)\n",
        "print(f\"Total price for {product1.name}: ${product1.total_price()}\")  # Output: $1600\n"
      ],
      "metadata": {
        "colab": {
          "base_uri": "https://localhost:8080/"
        },
        "id": "URwd4eA-CIdS",
        "outputId": "c6d3b85c-68d2-4a2f-9d61-9cc25b07e4b9"
      },
      "execution_count": 15,
      "outputs": [
        {
          "output_type": "stream",
          "name": "stdout",
          "text": [
            "Total price for Laptop: $1600\n"
          ]
        }
      ]
    },
    {
      "cell_type": "markdown",
      "source": [
        "Question no. 16 Create a class Animal with an abstract method sound(). Create two derived classes Cow and Sheep that\n",
        "implement the sound() method."
      ],
      "metadata": {
        "id": "4YCHDGldCPY5"
      }
    },
    {
      "cell_type": "code",
      "source": [
        "from abc import ABC, abstractmethod\n",
        "\n",
        "# Abstract base class\n",
        "class Animal(ABC):\n",
        "    @abstractmethod\n",
        "    def sound(self):\n",
        "        pass\n",
        "\n",
        "# Derived class\n",
        "class Cow(Animal):\n",
        "    def sound(self):\n",
        "        return \"Moo\"\n",
        "\n",
        "# Derived class\n",
        "class Sheep(Animal):\n",
        "    def sound(self):\n",
        "        return \"Baa\"\n",
        "\n",
        "# Example usage\n",
        "cow = Cow()\n",
        "sheep = Sheep()\n",
        "\n",
        "print(\"Cow says:\", cow.sound())    # Output: Moo\n",
        "print(\"Sheep says:\", sheep.sound())  # Output: Baa\n"
      ],
      "metadata": {
        "colab": {
          "base_uri": "https://localhost:8080/"
        },
        "id": "rlRHOSz_CVbA",
        "outputId": "3b509cce-0102-4dc3-cfb1-974c4b0ce235"
      },
      "execution_count": 17,
      "outputs": [
        {
          "output_type": "stream",
          "name": "stdout",
          "text": [
            "Cow says: Moo\n",
            "Sheep says: Baa\n"
          ]
        }
      ]
    },
    {
      "cell_type": "markdown",
      "source": [
        "Question no. 17  Create a class Book with attributes title, author, and year_published. Add a method get_book_info() that\n",
        "returns a formatted string with the book's details."
      ],
      "metadata": {
        "id": "k91dmmt-Ccyh"
      }
    },
    {
      "cell_type": "code",
      "source": [
        "class Book:\n",
        "    def __init__(self, title, author, year_published):\n",
        "        self.title = title\n",
        "        self.author = author\n",
        "        self.year_published = year_published\n",
        "\n",
        "    def get_book_info(self):\n",
        "        return f\"'{self.title}' by {self.author}, published in {self.year_published}.\"\n",
        "\n",
        "# Example usage\n",
        "book1 = Book(\"To Kill a Mockingbird\", \"Harper Lee\", 1960)\n",
        "print(book1.get_book_info())\n"
      ],
      "metadata": {
        "colab": {
          "base_uri": "https://localhost:8080/"
        },
        "id": "vaX-DwoSCfEt",
        "outputId": "5c1924b5-8c67-450a-a54a-0a4876056716"
      },
      "execution_count": 18,
      "outputs": [
        {
          "output_type": "stream",
          "name": "stdout",
          "text": [
            "'To Kill a Mockingbird' by Harper Lee, published in 1960.\n"
          ]
        }
      ]
    },
    {
      "cell_type": "markdown",
      "source": [
        "Question no. 18 Create a class House with attributes address and price. Create a derived class Mansion that adds an\n",
        "attribute number_of_rooms."
      ],
      "metadata": {
        "id": "w4YBpnHyCkUN"
      }
    },
    {
      "cell_type": "code",
      "source": [
        "# Base class\n",
        "class House:\n",
        "    def __init__(self, address, price):\n",
        "        self.address = address\n",
        "        self.price = price\n",
        "\n",
        "# Derived class\n",
        "class Mansion(House):\n",
        "    def __init__(self, address, price, number_of_rooms):\n",
        "        super().__init__(address, price)\n",
        "        self.number_of_rooms = number_of_rooms\n",
        "\n",
        "# Example usage\n",
        "mansion1 = Mansion(\"123 Luxury Ave\", 2000000, 12)\n",
        "print(f\"Address: {mansion1.address}\")\n",
        "print(f\"Price: ${mansion1.price}\")\n",
        "print(f\"Number of rooms: {mansion1.number_of_rooms}\")\n"
      ],
      "metadata": {
        "id": "2YXy0RXqCs4c",
        "outputId": "4aadc55a-51d2-4cc4-b5eb-1ef681f1599c",
        "colab": {
          "base_uri": "https://localhost:8080/"
        }
      },
      "execution_count": 19,
      "outputs": [
        {
          "output_type": "stream",
          "name": "stdout",
          "text": [
            "Address: 123 Luxury Ave\n",
            "Price: $2000000\n",
            "Number of rooms: 12\n"
          ]
        }
      ]
    }
  ]
}